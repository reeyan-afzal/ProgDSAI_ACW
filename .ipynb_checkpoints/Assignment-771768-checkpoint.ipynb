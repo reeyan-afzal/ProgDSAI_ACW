{
 "cells": [
  {
   "cell_type": "code",
   "execution_count": 16,
   "id": "237f2878-711d-4620-ab0f-b9295fc158bc",
   "metadata": {},
   "outputs": [],
   "source": [
    "import os, json, csv\n",
    "from datetime import datetime\n",
    "\n",
    "import pandas as pd\n",
    "import seaborn as sns\n",
    "import matplotlib.pyplot as plt"
   ]
  },
  {
   "cell_type": "markdown",
   "id": "421e11a9-9315-4cb6-8cfa-43dba2a4a1ea",
   "metadata": {},
   "source": [
    "___"
   ]
  },
  {
   "cell_type": "markdown",
   "id": "093cb062-8453-4491-9d50-5e4514b09ae5",
   "metadata": {},
   "source": [
    "## Data Processing (70%)"
   ]
  },
  {
   "cell_type": "markdown",
   "id": "e385a55b-d621-41ab-b82b-feadc9eab938",
   "metadata": {},
   "source": [
    "### Step 1: Reading the 'csv' File\n"
   ]
  },
  {
   "cell_type": "code",
   "execution_count": 7,
   "id": "c2420083-0a61-4e8d-be03-054c73e65ce9",
   "metadata": {},
   "outputs": [],
   "source": [
    "def read_csv(file_path):\n",
    "    data = []\n",
    "    with open(file_path, mode='r', encoding='utf-8') as file:\n",
    "        reader = csv.DictReader(file)\n",
    "        for row in reader:\n",
    "            data.append(row)\n",
    "    return data\n",
    "\n",
    "csv_file_path = os.path.join(os.getcwd(), \"acw_user_data.csv\")\n",
    "csv_data = read_csv(csv_file_path)"
   ]
  },
  {
   "cell_type": "markdown",
   "id": "bf0de268-8f63-4519-9449-efbf5ef2c380",
   "metadata": {},
   "source": [
    "### Step 2: Structuring the Data"
   ]
  },
  {
   "cell_type": "code",
   "execution_count": 8,
   "id": "f70b24db-dff6-47e8-9169-f875180d3bb6",
   "metadata": {},
   "outputs": [],
   "source": [
    "def nest_data(row):\n",
    "    dependants = row.get(\"Dependants\", \"\").strip()\n",
    "    if not dependants.isdigit():\n",
    "        dependants = None\n",
    "\n",
    "    retired = row.get(\"Retired\", \"\").strip().lower() == \"true\"\n",
    "\n",
    "    return {\n",
    "        \"first_name\": row.get(\"First Name\"),\n",
    "        \"second_name\": row.get(\"Last Name\"),\n",
    "        \"age\": int(row.get(\"Age (Years)\", 0)),\n",
    "        \"sex\": row.get(\"Sex\"),\n",
    "        \"retired\": retired,\n",
    "        \"marital_status\": row.get(\"Marital Status\"),\n",
    "        \"dependants\": dependants,\n",
    "        \"salary\": int(row.get(\"Yearly Salary (Dollar)\", 0)),\n",
    "        \"pension\": int(row.get(\"Yearly Pension (Dollar)\", 0)),\n",
    "        \"company\": row.get(\"Employer Company\"),\n",
    "        \"commute_distance\": float(row.get(\"Distance Commuted to Work (Km)\", 1.0)),\n",
    "        \"Vehicle\": {\n",
    "            \"make\": row.get(\"Vehicle Make\"),\n",
    "            \"model\": row.get(\"Vehicle Model\"),\n",
    "            \"year\": row.get(\"Vehicle Year\"),\n",
    "            \"category\": row.get(\"Vehicle Type\")\n",
    "        },\n",
    "        \"Credit Card\": {\n",
    "            \"start_date\": row.get(\"Credit Card Start Date\"),\n",
    "            \"end_date\": row.get(\"Credit Card Expiry Date\"),\n",
    "            \"number\": row.get(\"Credit Card Number\"),\n",
    "            \"ccv\": row.get(\"Credit Card CVV\"),\n",
    "            \"iban\": row.get(\"Bank IBAN\")\n",
    "        },\n",
    "        \"Address\": {\n",
    "            \"street\": row.get(\"Address Street\"),\n",
    "            \"city\": row.get(\"Address City\"),\n",
    "            \"postcode\": row.get(\"Address Postcode\")\n",
    "        }\n",
    "    }"
   ]
  },
  {
   "cell_type": "markdown",
   "id": "61b43fd8-7945-4a13-b64d-75deb8c42758",
   "metadata": {},
   "source": [
    "### Step 3: Tracking Problematic Rows"
   ]
  },
  {
   "cell_type": "code",
   "execution_count": 9,
   "id": "70b54d95-3466-4586-b92d-8520fa1eb767",
   "metadata": {},
   "outputs": [
    {
     "name": "stdout",
     "output_type": "stream",
     "text": [
      "Problematic rows for dependants: [21, 109, 179, 205, 270, 272, 274, 358, 460, 468, 579, 636, 679, 725, 822, 865, 917, 931, 983]\n"
     ]
    }
   ],
   "source": [
    "def process_data(data):\n",
    "    _processed_data = []\n",
    "    problematic_rows = []\n",
    "    for idx, row in enumerate(data):\n",
    "        nested_row = nest_data(row)\n",
    "        if nested_row[\"dependants\"] is None:\n",
    "            problematic_rows.append(idx)\n",
    "            nested_row[\"dependants\"] = 0\n",
    "        _processed_data.append(nested_row)\n",
    "    print(\"Problematic rows for dependants:\", problematic_rows)\n",
    "    return _processed_data\n",
    "\n",
    "processed_data = process_data(csv_data)"
   ]
  },
  {
   "cell_type": "markdown",
   "id": "58881289-b574-4394-986f-f4bddd0c9ad4",
   "metadata": {},
   "source": [
    "### Step 4: Saving Processed Data to JSON"
   ]
  },
  {
   "cell_type": "code",
   "execution_count": 17,
   "id": "f6d161e7-5349-4321-88a8-d6d93e64735c",
   "metadata": {},
   "outputs": [],
   "source": [
    "def save_to_json(data, file_name=\"processed.json\"):\n",
    "    with open(file_name, \"w\", encoding=\"utf-8\") as file:\n",
    "        json.dump(data, file, ensure_ascii=False, indent=4)\n",
    "\n",
    "save_to_json(processed_data, \"json_data/processed.json\")"
   ]
  },
  {
   "cell_type": "markdown",
   "id": "fba2dd45-d0c3-4508-b0e1-492999517967",
   "metadata": {},
   "source": [
    "### Step 5: Separation by Retirement Status"
   ]
  },
  {
   "cell_type": "code",
   "execution_count": 18,
   "id": "6c957cc0-e16c-466e-b087-a2d951dbc588",
   "metadata": {},
   "outputs": [],
   "source": [
    "def separate_by_retirement(data):\n",
    "    retired = [entry for entry in data if entry[\"retired\"] is True]\n",
    "    employed = [entry for entry in data if entry[\"retired\"] is False]\n",
    "    with open(\"json_data/retired.json\", \"w\", encoding=\"utf-8\") as file:\n",
    "        json.dump(retired, file, ensure_ascii=False, indent=4)\n",
    "    with open(\"json_data/employed.json\", \"w\", encoding=\"utf-8\") as file:\n",
    "        json.dump(employed, file, ensure_ascii=False, indent=4)\n",
    "\n",
    "separate_by_retirement(processed_data)"
   ]
  },
  {
   "cell_type": "markdown",
   "id": "f3ce2d20-3d94-4b00-82c1-7d9552346cd4",
   "metadata": {},
   "source": [
    "### Step 6: Flagging Outdated Credit Cards"
   ]
  },
  {
   "cell_type": "code",
   "execution_count": 19,
   "id": "01b7a163-53ba-400f-8ab0-e374499095d9",
   "metadata": {},
   "outputs": [],
   "source": [
    "def flag_outdated_credit_cards(data):\n",
    "    outdated_cards = []\n",
    "\n",
    "    for entry in data:\n",
    "        start_date = entry[\"Credit Card\"][\"start_date\"]\n",
    "        end_date = entry[\"Credit Card\"][\"end_date\"]\n",
    "\n",
    "        if start_date and end_date:\n",
    "            start_year = int(start_date.split(\"/\")[-1])\n",
    "            end_year = int(end_date.split(\"/\")[-1])\n",
    "\n",
    "            start_year += 2000 if start_year < 100 else 0\n",
    "            end_year += 2000 if end_year < 100 else 0\n",
    "\n",
    "            if (end_year - start_year) > 10:\n",
    "                outdated_cards.append(entry)\n",
    "\n",
    "    with open(\"json_data/remove_ccard.json\", \"w\", encoding=\"utf-8\") as file:\n",
    "        json.dump(outdated_cards, file, ensure_ascii=False, indent=4)\n",
    "\n",
    "flag_outdated_credit_cards(processed_data)"
   ]
  },
  {
   "cell_type": "markdown",
   "id": "84a08070-5da1-4c22-a26b-7547aa4a32dc",
   "metadata": {},
   "source": [
    "### Step 7: Salary-Commute Calculation and Sorting"
   ]
  },
  {
   "cell_type": "code",
   "execution_count": 20,
   "id": "f28aeebc-5763-47dc-a01a-06b4a98d40f7",
   "metadata": {},
   "outputs": [],
   "source": [
    "def calculate_salary_commute(data):\n",
    "    for entry in data:\n",
    "        commute_distance = entry[\"commute_distance\"]\n",
    "        if commute_distance > 1:\n",
    "            entry[\"SalaryCommute\"] = entry[\"salary\"] / commute_distance\n",
    "        else:\n",
    "            entry[\"SalaryCommute\"] = entry[\"salary\"]\n",
    "\n",
    "    sorted_data = sorted(data, key=lambda x: x[\"SalaryCommute\"], reverse=True)\n",
    "\n",
    "    with open(\"json_data/commute.json\", \"w\", encoding=\"utf-8\") as file:\n",
    "        json.dump(sorted_data, file, ensure_ascii=False, indent=4)\n",
    "\n",
    "calculate_salary_commute(processed_data)"
   ]
  },
  {
   "cell_type": "markdown",
   "id": "cba4d9a2-b44d-430a-8af7-4d4a58dcebbc",
   "metadata": {},
   "source": [
    "___"
   ]
  },
  {
   "cell_type": "markdown",
   "id": "59be46f0-528f-4679-90ec-23a8805fd606",
   "metadata": {},
   "source": [
    "## Data Visualisation (20%)"
   ]
  },
  {
   "cell_type": "markdown",
   "id": "6b2b6ced-cd12-4e7e-972b-1ab08256f840",
   "metadata": {},
   "source": [
    "Your client wishes to understand the data they have on their customers a bit more by use of visualisations. With use of Pandas and Seaborn read in the original CSV file provided with the assignment."
   ]
  },
  {
   "cell_type": "markdown",
   "id": "9aa897a5-a674-4143-a53a-b19332818a98",
   "metadata": {},
   "source": [
    "##### 1. Obtain the Data Series for Salary, and Age, and calculate the following:\n",
    "   - Mean Salary \n",
    "   - Median Age"
   ]
  },
  {
   "cell_type": "code",
   "execution_count": null,
   "id": "0cf1fc34-f188-4198-bfa7-afa950b105b0",
   "metadata": {},
   "outputs": [],
   "source": []
  },
  {
   "cell_type": "markdown",
   "id": "0ffa9a17-31d5-4da4-bf48-b1fad0986a47",
   "metadata": {},
   "source": [
    "##### 2. Perform uni variate plots of the following data attributes:\n",
    "   - Age, calculating how many bins would be required for a bin_width of 5. \n",
    "   - Dependents, fixing data errors with seaborn itself. \n",
    "   - Age (of default bins), conditioned on Marital Status"
   ]
  },
  {
   "cell_type": "code",
   "execution_count": null,
   "id": "5e41ecbb-c8a3-4eee-8adf-5b9853ddac50",
   "metadata": {},
   "outputs": [],
   "source": []
  },
  {
   "cell_type": "markdown",
   "id": "33908ab4-aadf-4a8b-a439-37f115393674",
   "metadata": {},
   "source": [
    "##### 3. Perform multivariate plots with the following data attributes:\n",
    "   - Commuted distance against salary.\n",
    "   - Age against Salary\n",
    "   - Age against Salary conditioned by Dependants"
   ]
  },
  {
   "cell_type": "code",
   "execution_count": null,
   "id": "25c98547-de68-428f-a4a9-9108bd48801e",
   "metadata": {},
   "outputs": [],
   "source": []
  },
  {
   "cell_type": "markdown",
   "id": "10abfb78-a7a2-49cb-938b-5ff130115177",
   "metadata": {},
   "source": [
    "##### 4. Your client would like the ability to save the plots which you have produced. Provide a Notebook cell which can do this."
   ]
  },
  {
   "cell_type": "code",
   "execution_count": null,
   "id": "a3ace0a0-e675-4e5d-9b68-998fdfd8804d",
   "metadata": {},
   "outputs": [],
   "source": []
  }
 ],
 "metadata": {
  "kernelspec": {
   "display_name": "Python 3 (ipykernel)",
   "language": "python",
   "name": "python3"
  },
  "language_info": {
   "codemirror_mode": {
    "name": "ipython",
    "version": 3
   },
   "file_extension": ".py",
   "mimetype": "text/x-python",
   "name": "python",
   "nbconvert_exporter": "python",
   "pygments_lexer": "ipython3",
   "version": "3.13.0"
  }
 },
 "nbformat": 4,
 "nbformat_minor": 5
}
